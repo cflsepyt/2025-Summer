{
 "cells": [
  {
   "cell_type": "code",
   "execution_count": 1,
   "id": "5019ca67",
   "metadata": {},
   "outputs": [],
   "source": [
    "import glob, re, h5py\n",
    "import matplotlib.pyplot as plt\n",
    "import numpy as np\n",
    "from scipy.ndimage import convolve1d"
   ]
  },
  {
   "cell_type": "code",
   "execution_count": 2,
   "id": "f62e99a8",
   "metadata": {},
   "outputs": [],
   "source": [
    "def read_Dycore_data(filepath, print_var=True):\n",
    "    \"\"\"\n",
    "    Load Dycore data from HDF5 file.\n",
    "\n",
    "    Parameters:\n",
    "        filepath (str): Path to the Dycore HDF5 file.\n",
    "        print_var (bool): If True, print available variable names.\n",
    "\n",
    "    Returns:\n",
    "        tuple: u, v, t, p, ps, w, phi arrays\n",
    "    \"\"\"\n",
    "    with h5py.File(filepath, \"r\") as f:\n",
    "        if print_var:\n",
    "            print(\"Available variables:\", list(f.keys()))\n",
    "\n",
    "        t   = f[\"grid_tracers_c_xyzt\"][:]      # Temperature\n",
    "        p   = f[\"grid_p_full_xyzt\"][:]   # 3D pressure\n",
    "\n",
    "    return t, p\n",
    "\n",
    "def _extract_day(fp):\n",
    "    m = re.search(r\"_startfrom_(\\d+)day\", fp)\n",
    "    return int(m.group(1)) if m else -1\n",
    "\n",
    "def read_dycore_series(pattern):\n",
    "    # find & sort\n",
    "    files = sorted(glob.glob(pattern), key=_extract_day)\n",
    "    # print(files)\n",
    "\n",
    "    t_tmp = []; p_tmp = []\n",
    "    for i, fp in enumerate(files):\n",
    "        t, p = read_Dycore_data(fp, print_var=(i==0))\n",
    "        t_tmp.append(t); p_tmp.append(p)\n",
    "\n",
    "    t_all   = np.concatenate(t_tmp,  axis=0)\n",
    "    p_all   = np.concatenate(p_tmp,  axis=0)\n",
    "    return t_all, p_all"
   ]
  },
  {
   "cell_type": "code",
   "execution_count": 13,
   "id": "54d140ed",
   "metadata": {},
   "outputs": [],
   "source": [
    "def fft2( data ):\n",
    "    \n",
    "    data_fft = np.fft.fft( data, axis=0 )\n",
    "    data_fft = np.fft.ifft( data_fft, axis=-1 ) * data.shape[-1]\n",
    "    \n",
    "    # return data_fft.sum( axis=1 )\n",
    "    return data_fft\n",
    "\n",
    "def ifft2( data ):\n",
    "    \n",
    "    data_ifft = np.fft.ifft( data, axis=0 )\n",
    "    data_ifft = np.fft.fft( data_ifft, axis=-1 ) / data.shape[-1]\n",
    "    \n",
    "    return data_ifft.real"
   ]
  },
  {
   "cell_type": "code",
   "execution_count": 4,
   "id": "2286956b",
   "metadata": {},
   "outputs": [
    {
     "name": "stdout",
     "output_type": "stream",
     "text": [
      "Available variables: ['_types', 'convection_xyzt', 'factor1_xyzt', 'factor2_xyzt', 'factor3_xyzt', 'factor4_xyzt', 'grid_div_xyzt', 'grid_geopots_xyzt', 'grid_p_full_xyzt', 'grid_p_half_xyzt', 'grid_ps_c_xyzt', 'grid_ps_p_xyzt', 'grid_t_c_xyzt', 'grid_t_n_xyzt', 'grid_t_p_xyzt', 'grid_tracers_c_xyzt', 'grid_tracers_diff_xyzt', 'grid_tracers_n_xyzt', 'grid_tracers_p_xyzt', 'grid_u_c_xyzt', 'grid_u_n_xyzt', 'grid_u_p_xyzt', 'grid_v_c_xyzt', 'grid_v_n_xyzt', 'grid_v_p_xyzt', 'grid_vor_xyzt', 'grid_w_full_xyzt', 'grid_z_full_xyzt', 'grid_δtracers_xyzt', 'grid_δu_xyzt', 'grid_δv_xyzt', 'spe_div_c_xyzt', 'spe_div_p_xyzt', 'spe_lnps_c_xyzt', 'spe_lnps_p_xyzt', 'spe_t_c_xyzt', 'spe_t_p_xyzt', 'spe_tracers_c_xyzt', 'spe_tracers_p_xyzt', 'spe_vor_c_xyzt', 'spe_vor_p_xyzt']\n"
     ]
    }
   ],
   "source": [
    "pattern_sst = \"/data92/Quark/ctrl_2000d/HSt42_20/RH80_PR20_2000day_startfrom_*_final.dat\"\n",
    "t, p = read_dycore_series(pattern_sst)"
   ]
  },
  {
   "cell_type": "code",
   "execution_count": 36,
   "id": "c096604c",
   "metadata": {},
   "outputs": [
    {
     "name": "stdout",
     "output_type": "stream",
     "text": [
      "(4000, 10, 128)\n"
     ]
    }
   ],
   "source": [
    "# lat, lon, and lat_lim\n",
    "x = np.linspace(0, 360, 128, endpoint=False)\n",
    "y = np.linspace(-90, 90, 64)\n",
    "lat_lim = np.where( ( y >= -15.0 ) & ( y <= 15.0 ) )[0]\n",
    "\n",
    "# temperature data (1000d~2000d)\n",
    "data = t[4000:8000, 2, lat_lim, :]\n",
    "# data = t[3000:, 16, lat_lim, :]\n",
    "print(data.shape)"
   ]
  },
  {
   "cell_type": "code",
   "execution_count": 6,
   "id": "08f8bf43",
   "metadata": {},
   "outputs": [],
   "source": [
    "wn = np.fft.fftfreq(128, d=1/128)\n",
    "fr = np.fft.fftfreq(data.shape[0], d=1/4)\n",
    "\n",
    "wnm, frm = np.meshgrid( wn, fr )\n",
    "\n",
    "mask = (\n",
    "    # ((wnm>=-7)&(wnm<=-3)&(frm>=0.01)&(frm<=0.20)) |\n",
    "    ((wnm>= 5)&(wnm<= 7)&(frm>=0.01)&(frm<=0.20)) |\n",
    "    ((wnm>= 11)&(wnm<=14)&(frm>=0.01)&(frm<=0.20)) |\n",
    "    # ((wnm>=-7)&(wnm<=-3)&(frm<=-0.01)&(frm>=-0.20)) \n",
    "    ((wnm>= 5)&(wnm<= 7)&(frm<=-0.01)&(frm>=-0.20)) |\n",
    "    ((wnm>= 11)&(wnm<=14)&(frm<=-0.01)&(frm>=-0.20)) \n",
    "    \n",
    ")"
   ]
  },
  {
   "cell_type": "code",
   "execution_count": 37,
   "id": "4dcf3005",
   "metadata": {},
   "outputs": [
    {
     "data": {
      "text/plain": [
       "(10, 4000, 128)"
      ]
     },
     "execution_count": 37,
     "metadata": {},
     "output_type": "execute_result"
    }
   ],
   "source": [
    "data -= data.mean( axis=(0, 2), keepdims=True )\n",
    "# print(data.shape)\n",
    "\n",
    "kel_reconstruct_xy = []\n",
    "\n",
    "\n",
    "for i in range(len(lat_lim)):\n",
    "\n",
    "    sym = ( data[:, i, :] + np.flip( data[:, i, :], axis=1 ) ) / 2\n",
    "    # print(sym.shape)\n",
    "\n",
    "    sym_fft = fft2(sym)\n",
    "    # print(sym_fft.shape)\n",
    "    sym_fft_masked = sym_fft * mask\n",
    "    kel_reconstruct_tmp = ifft2( sym_fft_masked )\n",
    "    kel_reconstruct_xy.append(kel_reconstruct_tmp)\n",
    "\n",
    "kel_reconstruct_xy = np.array(kel_reconstruct_xy)\n",
    "kel_reconstruct_xy.shape"
   ]
  },
  {
   "cell_type": "code",
   "execution_count": 38,
   "id": "076cbe10",
   "metadata": {},
   "outputs": [
    {
     "data": {
      "text/plain": [
       "Text(0.5, 1.0, 'Reconstructed signal @ 100 hPa (Day: 1000.0)')"
      ]
     },
     "execution_count": 38,
     "metadata": {},
     "output_type": "execute_result"
    },
    {
     "data": {
      "image/png": "[encoded data removed]",
      "text/plain": [
       "<Figure size 640x480 with 1 Axes>"
      ]
     },
     "metadata": {},
     "output_type": "display_data"
    }
   ],
   "source": [
    "timestep = 0\n",
    "plt.pcolormesh(x, y[lat_lim], kel_reconstruct_xy[:, timestep, :], cmap=\"RdBu\")\n",
    "plt.xlabel('Longitude')\n",
    "plt.ylabel('Latitude')\n",
    "plt.title(f'Reconstructed signal @ 100 hPa (Day: {(timestep + 4000)/4})')"
   ]
  }
 ],
 "metadata": {
  "kernelspec": {
   "display_name": "jupyter_git",
   "language": "python",
   "name": "python3"
  },
  "language_info": {
   "codemirror_mode": {
    "name": "ipython",
    "version": 3
   },
   "file_extension": ".py",
   "mimetype": "text/x-python",
   "name": "python",
   "nbconvert_exporter": "python",
   "pygments_lexer": "ipython3",
   "version": "3.9.18"
  }
 },
 "nbformat": 4,
 "nbformat_minor": 5
}
